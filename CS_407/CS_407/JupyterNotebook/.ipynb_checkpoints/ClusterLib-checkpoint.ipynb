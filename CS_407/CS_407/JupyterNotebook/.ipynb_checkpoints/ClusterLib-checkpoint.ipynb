{
 "cells": [
  {
   "cell_type": "code",
   "execution_count": 12,
   "metadata": {},
   "outputs": [],
   "source": [
    "import pandas as pd\n",
    "import numpy as np\n",
    "import matplotlib.pyplot as plt\n",
    "import math as mth\n",
    "from sklearn.cluster import KMeans\n",
    "from sklearn.preprocessing import MinMaxScaler\n",
    "\n",
    "from IPython.core.interactiveshell import InteractiveShell\n",
    "InteractiveShell.ast_node_interactivity = \"all\""
   ]
  },
  {
   "cell_type": "code",
   "execution_count": 13,
   "metadata": {},
   "outputs": [],
   "source": [
    "def euclidian_distance(x, y, a, b):\n",
    "    return mth.sqrt(pow(x - a,2) + pow(y - b,2))"
   ]
  },
  {
   "cell_type": "code",
   "execution_count": 14,
   "metadata": {},
   "outputs": [],
   "source": [
    "def assign_cluster(dataset, Centroids):\n",
    "    cluster = []\n",
    "    \n",
    "    for k in range(len(Centroids)):\n",
    "        euc = []\n",
    "        for i in range(len(dataset)):\n",
    "            euc_dis = euclidian_distance(dataset.loc[i, 'x'], dataset.loc[i, 'y'], Centroids.loc[k, 'x'], Centroids.loc[k, 'y'])\n",
    "            euc.append(euc_dis)\n",
    "            if(k ==0):\n",
    "                cluster.append(1)\n",
    "            else:\n",
    "                for j in range(k):\n",
    "                    if(euc_dis < euclidian_distance(dataset.loc[i, 'x'], dataset.loc[i, 'y'], Centroids.loc[j, 'x'], Centroids.loc[j, 'y'])):\n",
    "                        cluster[i] = k + 1\n",
    "            \n",
    "        eucname = 'Euc'+ str(k + 1)\n",
    "        dataset[eucname] = euc\n",
    "    dataset['Cluster'] = cluster\n",
    "                \n",
    "    return dataset"
   ]
  },
  {
   "cell_type": "code",
   "execution_count": 15,
   "metadata": {},
   "outputs": [],
   "source": [
    "def calc_new_centroid(dataset):\n",
    "    mean = pd.DataFrame({'Meanx' :[0,0], 'Meany' :[0,0], 'Num' :[1,1]})\n",
    "    \n",
    "    for i in range(len(dataset)):\n",
    "        if(dataset.loc[i, 'Cluster'] == 1):\n",
    "            mean.loc[0,'Meanx'] = mean.loc[0,'Meanx'] + dataset.loc[i, 'x']\n",
    "            mean.loc[0,'Meany'] = mean.loc[0,'Meany'] + dataset.loc[i, 'y']\n",
    "            mean.loc[0,'Num']=  mean.loc[0,'Num'] + 1\n",
    "        else:\n",
    "            mean.loc[1,'Meanx'] += dataset.loc[i, 'x']\n",
    "            mean.loc[1,'Meany'] += dataset.loc[i, 'y']\n",
    "            mean.loc[1,'Num']+=1\n",
    "\n",
    "    mean.loc[0,'Meanx']/=  mean.loc[0,'Num']\n",
    "    mean.loc[0,'Meany']/=  mean.loc[0,'Num']\n",
    "\n",
    "    mean.loc[1,'Meanx']/=  mean.loc[1,'Num']\n",
    "    mean.loc[1,'Meany']/=  mean.loc[1,'Num']\n",
    "\n",
    "   \n",
    "    return (round(mean.loc[0,'Meanx'], 2), round(mean.loc[0,'Meany'],2), round(mean.loc[1,'Meanx'],2),round(mean.loc[0,'Meany'],2))\n",
    "\n",
    "    "
   ]
  },
  {
   "cell_type": "code",
   "execution_count": 16,
   "metadata": {},
   "outputs": [],
   "source": [
    "def do_cluster(dataset):\n",
    "    current = pd.DataFrame({'x': [dataset['x'][0],  dataset['x'][1]], 'y': [dataset['y'][0], dataset['y'][1]]})\n",
    "\n",
    "    data = assign_cluster(dataset, Centroids)\n",
    "    Cent1X, Cent1Y, Cent2X, Cent2Y = calc_new_centroid(data)\n",
    "    newCents = pd.DataFrame({'x': [Cent1X,  Cent2X], 'y': [Cent1Y, Cent2Y]})\n",
    "    \n",
    "    while (current['x'][0] != Cents['x'][0]):\n",
    "        data = assign_cluster(data, newCents)\n",
    "        Cent1X, Cent1Y, Cent2X, Cent2Y = calc_new_centroid(data)\n",
    "        current = newCents\n",
    "        newCents = pd.DataFrame({'x': [Cent1X,  Cent2X], 'y': [Cent1Y, Cent2Y]})\n",
    "        for i in range(len(data)):\n",
    "            if(data['Cluster'][i] == 1):\n",
    "                plt.plot(data['x'][i], data['y'][i], 'o', color='pink')\n",
    "            else:\n",
    "                 plt.plot(data['x'][i], data['y'][i], 'o', color='purple')       \n",
    "        plt.plot(current['x'][0], current['y'][0], 'v', color='pink')\n",
    "        plt.plot(current['x'][1], current['y'][1], 'v', color='purple')\n",
    "    return 0\n"
   ]
  },
  {
   "cell_type": "code",
   "execution_count": 17,
   "metadata": {},
   "outputs": [
    {
     "data": {
      "text/html": [
       "<div>\n",
       "<style scoped>\n",
       "    .dataframe tbody tr th:only-of-type {\n",
       "        vertical-align: middle;\n",
       "    }\n",
       "\n",
       "    .dataframe tbody tr th {\n",
       "        vertical-align: top;\n",
       "    }\n",
       "\n",
       "    .dataframe thead th {\n",
       "        text-align: right;\n",
       "    }\n",
       "</style>\n",
       "<table border=\"1\" class=\"dataframe\">\n",
       "  <thead>\n",
       "    <tr style=\"text-align: right;\">\n",
       "      <th></th>\n",
       "      <th>x</th>\n",
       "      <th>y</th>\n",
       "    </tr>\n",
       "  </thead>\n",
       "  <tbody>\n",
       "    <tr>\n",
       "      <th>0</th>\n",
       "      <td>5</td>\n",
       "      <td>3</td>\n",
       "    </tr>\n",
       "    <tr>\n",
       "      <th>1</th>\n",
       "      <td>10</td>\n",
       "      <td>15</td>\n",
       "    </tr>\n",
       "    <tr>\n",
       "      <th>2</th>\n",
       "      <td>15</td>\n",
       "      <td>12</td>\n",
       "    </tr>\n",
       "    <tr>\n",
       "      <th>3</th>\n",
       "      <td>24</td>\n",
       "      <td>10</td>\n",
       "    </tr>\n",
       "    <tr>\n",
       "      <th>4</th>\n",
       "      <td>30</td>\n",
       "      <td>45</td>\n",
       "    </tr>\n",
       "    <tr>\n",
       "      <th>5</th>\n",
       "      <td>55</td>\n",
       "      <td>52</td>\n",
       "    </tr>\n",
       "    <tr>\n",
       "      <th>6</th>\n",
       "      <td>60</td>\n",
       "      <td>78</td>\n",
       "    </tr>\n",
       "    <tr>\n",
       "      <th>7</th>\n",
       "      <td>71</td>\n",
       "      <td>80</td>\n",
       "    </tr>\n",
       "    <tr>\n",
       "      <th>8</th>\n",
       "      <td>80</td>\n",
       "      <td>91</td>\n",
       "    </tr>\n",
       "    <tr>\n",
       "      <th>9</th>\n",
       "      <td>85</td>\n",
       "      <td>70</td>\n",
       "    </tr>\n",
       "  </tbody>\n",
       "</table>\n",
       "</div>"
      ],
      "text/plain": [
       "    x   y\n",
       "0   5   3\n",
       "1  10  15\n",
       "2  15  12\n",
       "3  24  10\n",
       "4  30  45\n",
       "5  55  52\n",
       "6  60  78\n",
       "7  71  80\n",
       "8  80  91\n",
       "9  85  70"
      ]
     },
     "execution_count": 17,
     "metadata": {},
     "output_type": "execute_result"
    },
    {
     "ename": "NameError",
     "evalue": "name 'Centroids' is not defined",
     "output_type": "error",
     "traceback": [
      "\u001b[1;31m---------------------------------------------------------------------------\u001b[0m",
      "\u001b[1;31mNameError\u001b[0m                                 Traceback (most recent call last)",
      "\u001b[1;32m<ipython-input-17-9098c3ab4b1a>\u001b[0m in \u001b[0;36m<module>\u001b[1;34m\u001b[0m\n\u001b[0;32m      1\u001b[0m \u001b[0mdata\u001b[0m \u001b[1;33m=\u001b[0m \u001b[0mpd\u001b[0m\u001b[1;33m.\u001b[0m\u001b[0mDataFrame\u001b[0m\u001b[1;33m(\u001b[0m\u001b[1;33m{\u001b[0m\u001b[1;34m'x'\u001b[0m \u001b[1;33m:\u001b[0m\u001b[1;33m[\u001b[0m\u001b[1;36m5\u001b[0m\u001b[1;33m,\u001b[0m \u001b[1;36m10\u001b[0m\u001b[1;33m,\u001b[0m \u001b[1;36m15\u001b[0m\u001b[1;33m,\u001b[0m \u001b[1;36m24\u001b[0m\u001b[1;33m,\u001b[0m \u001b[1;36m30\u001b[0m\u001b[1;33m,\u001b[0m \u001b[1;36m55\u001b[0m\u001b[1;33m,\u001b[0m \u001b[1;36m60\u001b[0m\u001b[1;33m,\u001b[0m \u001b[1;36m71\u001b[0m\u001b[1;33m,\u001b[0m \u001b[1;36m80\u001b[0m\u001b[1;33m,\u001b[0m \u001b[1;36m85\u001b[0m\u001b[1;33m]\u001b[0m\u001b[1;33m,\u001b[0m \u001b[1;34m'y'\u001b[0m \u001b[1;33m:\u001b[0m \u001b[1;33m[\u001b[0m\u001b[1;36m3\u001b[0m\u001b[1;33m,\u001b[0m \u001b[1;36m15\u001b[0m\u001b[1;33m,\u001b[0m \u001b[1;36m12\u001b[0m\u001b[1;33m,\u001b[0m \u001b[1;36m10\u001b[0m\u001b[1;33m,\u001b[0m \u001b[1;36m45\u001b[0m\u001b[1;33m,\u001b[0m \u001b[1;36m52\u001b[0m\u001b[1;33m,\u001b[0m \u001b[1;36m78\u001b[0m\u001b[1;33m,\u001b[0m \u001b[1;36m80\u001b[0m\u001b[1;33m,\u001b[0m \u001b[1;36m91\u001b[0m\u001b[1;33m,\u001b[0m \u001b[1;36m70\u001b[0m\u001b[1;33m]\u001b[0m\u001b[1;33m}\u001b[0m\u001b[1;33m)\u001b[0m\u001b[1;33m\u001b[0m\u001b[1;33m\u001b[0m\u001b[0m\n\u001b[0;32m      2\u001b[0m \u001b[0mdata\u001b[0m\u001b[1;33m.\u001b[0m\u001b[0mhead\u001b[0m\u001b[1;33m(\u001b[0m\u001b[1;36m10\u001b[0m\u001b[1;33m)\u001b[0m\u001b[1;33m\u001b[0m\u001b[1;33m\u001b[0m\u001b[0m\n\u001b[1;32m----> 3\u001b[1;33m \u001b[0mdo_cluster\u001b[0m\u001b[1;33m(\u001b[0m\u001b[0mdata\u001b[0m\u001b[1;33m)\u001b[0m\u001b[1;33m\u001b[0m\u001b[1;33m\u001b[0m\u001b[0m\n\u001b[0m",
      "\u001b[1;32m<ipython-input-16-abb9ebdfb7b8>\u001b[0m in \u001b[0;36mdo_cluster\u001b[1;34m(dataset)\u001b[0m\n\u001b[0;32m      2\u001b[0m     \u001b[0mcurrent\u001b[0m \u001b[1;33m=\u001b[0m \u001b[0mpd\u001b[0m\u001b[1;33m.\u001b[0m\u001b[0mDataFrame\u001b[0m\u001b[1;33m(\u001b[0m\u001b[1;33m{\u001b[0m\u001b[1;34m'x'\u001b[0m\u001b[1;33m:\u001b[0m \u001b[1;33m[\u001b[0m\u001b[0mdataset\u001b[0m\u001b[1;33m[\u001b[0m\u001b[1;34m'x'\u001b[0m\u001b[1;33m]\u001b[0m\u001b[1;33m[\u001b[0m\u001b[1;36m0\u001b[0m\u001b[1;33m]\u001b[0m\u001b[1;33m,\u001b[0m  \u001b[0mdataset\u001b[0m\u001b[1;33m[\u001b[0m\u001b[1;34m'x'\u001b[0m\u001b[1;33m]\u001b[0m\u001b[1;33m[\u001b[0m\u001b[1;36m1\u001b[0m\u001b[1;33m]\u001b[0m\u001b[1;33m]\u001b[0m\u001b[1;33m,\u001b[0m \u001b[1;34m'y'\u001b[0m\u001b[1;33m:\u001b[0m \u001b[1;33m[\u001b[0m\u001b[0mdataset\u001b[0m\u001b[1;33m[\u001b[0m\u001b[1;34m'y'\u001b[0m\u001b[1;33m]\u001b[0m\u001b[1;33m[\u001b[0m\u001b[1;36m0\u001b[0m\u001b[1;33m]\u001b[0m\u001b[1;33m,\u001b[0m \u001b[0mdataset\u001b[0m\u001b[1;33m[\u001b[0m\u001b[1;34m'y'\u001b[0m\u001b[1;33m]\u001b[0m\u001b[1;33m[\u001b[0m\u001b[1;36m1\u001b[0m\u001b[1;33m]\u001b[0m\u001b[1;33m]\u001b[0m\u001b[1;33m}\u001b[0m\u001b[1;33m)\u001b[0m\u001b[1;33m\u001b[0m\u001b[1;33m\u001b[0m\u001b[0m\n\u001b[0;32m      3\u001b[0m \u001b[1;33m\u001b[0m\u001b[0m\n\u001b[1;32m----> 4\u001b[1;33m     \u001b[0mdata\u001b[0m \u001b[1;33m=\u001b[0m \u001b[0massign_cluster\u001b[0m\u001b[1;33m(\u001b[0m\u001b[0mdataset\u001b[0m\u001b[1;33m,\u001b[0m \u001b[0mCentroids\u001b[0m\u001b[1;33m)\u001b[0m\u001b[1;33m\u001b[0m\u001b[1;33m\u001b[0m\u001b[0m\n\u001b[0m\u001b[0;32m      5\u001b[0m     \u001b[0mCent1X\u001b[0m\u001b[1;33m,\u001b[0m \u001b[0mCent1Y\u001b[0m\u001b[1;33m,\u001b[0m \u001b[0mCent2X\u001b[0m\u001b[1;33m,\u001b[0m \u001b[0mCent2Y\u001b[0m \u001b[1;33m=\u001b[0m \u001b[0mcalc_new_centroid\u001b[0m\u001b[1;33m(\u001b[0m\u001b[0mdata\u001b[0m\u001b[1;33m)\u001b[0m\u001b[1;33m\u001b[0m\u001b[1;33m\u001b[0m\u001b[0m\n\u001b[0;32m      6\u001b[0m     \u001b[0mnewCents\u001b[0m \u001b[1;33m=\u001b[0m \u001b[0mpd\u001b[0m\u001b[1;33m.\u001b[0m\u001b[0mDataFrame\u001b[0m\u001b[1;33m(\u001b[0m\u001b[1;33m{\u001b[0m\u001b[1;34m'x'\u001b[0m\u001b[1;33m:\u001b[0m \u001b[1;33m[\u001b[0m\u001b[0mCent1X\u001b[0m\u001b[1;33m,\u001b[0m  \u001b[0mCent2X\u001b[0m\u001b[1;33m]\u001b[0m\u001b[1;33m,\u001b[0m \u001b[1;34m'y'\u001b[0m\u001b[1;33m:\u001b[0m \u001b[1;33m[\u001b[0m\u001b[0mCent1Y\u001b[0m\u001b[1;33m,\u001b[0m \u001b[0mCent2Y\u001b[0m\u001b[1;33m]\u001b[0m\u001b[1;33m}\u001b[0m\u001b[1;33m)\u001b[0m\u001b[1;33m\u001b[0m\u001b[1;33m\u001b[0m\u001b[0m\n",
      "\u001b[1;31mNameError\u001b[0m: name 'Centroids' is not defined"
     ]
    }
   ],
   "source": [
    "data = pd.DataFrame({'x' :[5, 10, 15, 24, 30, 55, 60, 71, 80, 85], 'y' : [3, 15, 12, 10, 45, 52, 78, 80, 91, 70]})\n",
    "data.head(10)\n",
    "do_cluster(data)"
   ]
  },
  {
   "cell_type": "code",
   "execution_count": 17,
   "metadata": {},
   "outputs": [
    {
     "name": "stdout",
     "output_type": "stream",
     "text": [
      "    x   y        Euc1        Euc2  Cluster\n",
      "0   5   3    0.000000   13.000000        1\n",
      "1  10  15   13.000000    0.000000        2\n",
      "2  15  12   13.453624    5.830952        2\n",
      "3  24  10   20.248457   14.866069        2\n",
      "4  30  45   48.877398   36.055513        2\n",
      "5  55  52   70.007142   58.258047        2\n",
      "6  60  78   93.005376   80.430094        2\n",
      "7  71  80  101.414989   89.140339        2\n",
      "8  80  91  115.624392  103.324731        2\n",
      "9  85  70  104.350371   93.005376        2\n"
     ]
    }
   ],
   "source": [
    "Centroids = pd.DataFrame({'x': [data['x'][0],  data['x'][1]], 'y': [data['y'][0], data['y'][1]]})\n",
    "\n",
    "print(assign_cluster(data, Centroids))"
   ]
  },
  {
   "cell_type": "code",
   "execution_count": 18,
   "metadata": {},
   "outputs": [
    {
     "name": "stdout",
     "output_type": "stream",
     "text": [
      "2.5 1.5 43.0 1.5\n",
      "    x   y        Euc1       Euc2  Cluster\n",
      "0   5   3    2.915476  38.029594        1\n",
      "1  10  15   15.443445  35.654593        1\n",
      "2  15  12   16.324828  29.904013        1\n",
      "3  24  10   23.119256  20.814658        2\n",
      "4  30  45   51.463579  45.400991        2\n",
      "5  55  52   72.845727  51.906165        2\n",
      "6  60  78   95.700052  78.366128        2\n",
      "7  71  80  104.184932  83.344166        2\n",
      "8  80  91  118.391300  96.846528        2\n",
      "9  85  70  107.231059  80.350793        2\n"
     ]
    }
   ],
   "source": [
    "data = assign_cluster(data, Centroids)\n",
    "\n",
    "Cent1X, Cent1Y, Cent2X, Cent2Y = calc_new_centroid(data)\n",
    "Cents = pd.DataFrame({'x': [Cent1X,  Cent2X], 'y': [Cent1Y, Cent2Y]})\n",
    "print(assign_cluster(data, Cents))\n"
   ]
  },
  {
   "cell_type": "code",
   "execution_count": 19,
   "metadata": {},
   "outputs": [
    {
     "name": "stdout",
     "output_type": "stream",
     "text": [
      "7.5 7.5 50.62 7.5\n",
      "    x   y        Euc1       Euc2  Cluster\n",
      "0   5   3    5.147815  45.841405        1\n",
      "1  10  15    7.905694  41.306590        1\n",
      "2  15  12    8.746428  35.903125        1\n",
      "3  24  10   16.688319  26.737135        1\n",
      "4  30  45   43.732139  42.795261        2\n",
      "5  55  52   65.088401  44.715036        2\n",
      "6  60  78   87.900512  71.121265        2\n",
      "7  71  80   96.376864  75.309989        2\n",
      "8  80  91  110.582548  88.517989        2\n",
      "9  85  70   99.561539  71.331861        2\n"
     ]
    }
   ],
   "source": [
    "data = assign_cluster(data, Cents)\n",
    "Cent1X, Cent1Y, Cent2X, Cent2Y = calc_new_centroid(data)\n",
    "Cents = pd.DataFrame({'x': [Cent1X,  Cent2X], 'y': [Cent1Y, Cent2Y]})\n",
    "print(assign_cluster(data, Cents))"
   ]
  },
  {
   "cell_type": "code",
   "execution_count": 20,
   "metadata": {},
   "outputs": [
    {
     "name": "stdout",
     "output_type": "stream",
     "text": [
      "10.8 8.0 54.43 8.0\n",
      "    x   y        Euc1       Euc2  Cluster\n",
      "0   5   3    7.657676  49.682239        1\n",
      "1  10  15    7.045566  44.978049        1\n",
      "2  15  12    5.800000  39.632372        1\n",
      "3  24  10   13.350655  30.495654        1\n",
      "4  30  45   41.685009  44.337624        1\n",
      "5  55  52   62.366978  44.003692        2\n",
      "6  60  78   85.560739  70.221257        2\n",
      "7  71  80   93.851159  73.882101        2\n",
      "8  80  91  108.063130  86.849438        2\n",
      "9  85  70   96.693536  69.126875        2\n"
     ]
    }
   ],
   "source": [
    "data = assign_cluster(data, Cents)\n",
    "Cent1X, Cent1Y, Cent2X, Cent2Y = calc_new_centroid(data)\n",
    "Cents = pd.DataFrame({'x': [Cent1X,  Cent2X], 'y': [Cent1Y, Cent2Y]})\n",
    "print(assign_cluster(data, Cents))"
   ]
  },
  {
   "cell_type": "code",
   "execution_count": 21,
   "metadata": {},
   "outputs": [
    {
     "name": "stdout",
     "output_type": "stream",
     "text": [
      "14.0 14.17 58.5 14.17\n",
      "    x   y        Euc1       Euc2  Cluster\n",
      "0   5   3   14.344647  54.653627        1\n",
      "1  10  15    4.085205  48.507102        1\n",
      "2  15  12    2.389330  43.554092        1\n",
      "3  24  10   10.834616  34.751099        1\n",
      "4  30  45   34.734549  41.984984        1\n",
      "5  55  52   55.786279  37.991564        2\n",
      "6  60  78   78.678262  63.847623        2\n",
      "7  71  80   87.078062  67.006260        2\n",
      "8  80  91  101.285976  79.781570        2\n",
      "9  85  70   90.321586  61.799991        2\n"
     ]
    }
   ],
   "source": [
    "data = assign_cluster(data, Cents)\n",
    "Cent1X, Cent1Y, Cent2X, Cent2Y = calc_new_centroid(data)\n",
    "Cents = pd.DataFrame({'x': [Cent1X,  Cent2X], 'y': [Cent1Y, Cent2Y]})\n",
    "print(assign_cluster(data, Cents))"
   ]
  },
  {
   "cell_type": "code",
   "execution_count": 22,
   "metadata": {},
   "outputs": [
    {
     "name": "stdout",
     "output_type": "stream",
     "text": [
      "14.0 14.17 58.5 14.17\n",
      "    x   y        Euc1       Euc2  Cluster\n",
      "0   5   3   14.344647  54.653627        1\n",
      "1  10  15    4.085205  48.507102        1\n",
      "2  15  12    2.389330  43.554092        1\n",
      "3  24  10   10.834616  34.751099        1\n",
      "4  30  45   34.734549  41.984984        1\n",
      "5  55  52   55.786279  37.991564        2\n",
      "6  60  78   78.678262  63.847623        2\n",
      "7  71  80   87.078062  67.006260        2\n",
      "8  80  91  101.285976  79.781570        2\n",
      "9  85  70   90.321586  61.799991        2\n"
     ]
    }
   ],
   "source": [
    "data = assign_cluster(data, Cents)\n",
    "Cent1X, Cent1Y, Cent2X, Cent2Y = calc_new_centroid(data)\n",
    "Cents = pd.DataFrame({'x': [Cent1X,  Cent2X], 'y': [Cent1Y, Cent2Y]})\n",
    "print(assign_cluster(data, Cents))"
   ]
  },
  {
   "cell_type": "code",
   "execution_count": 23,
   "metadata": {},
   "outputs": [
    {
     "name": "stdout",
     "output_type": "stream",
     "text": [
      "14.0 14.17 58.5 14.17\n",
      "    x   y        Euc1       Euc2  Cluster\n",
      "0   5   3   14.344647  54.653627        1\n",
      "1  10  15    4.085205  48.507102        1\n",
      "2  15  12    2.389330  43.554092        1\n",
      "3  24  10   10.834616  34.751099        1\n",
      "4  30  45   34.734549  41.984984        1\n",
      "5  55  52   55.786279  37.991564        2\n",
      "6  60  78   78.678262  63.847623        2\n",
      "7  71  80   87.078062  67.006260        2\n",
      "8  80  91  101.285976  79.781570        2\n",
      "9  85  70   90.321586  61.799991        2\n"
     ]
    }
   ],
   "source": [
    "data = assign_cluster(data, Cents)\n",
    "Cent1X, Cent1Y, Cent2X, Cent2Y = calc_new_centroid(data)\n",
    "Cents = pd.DataFrame({'x': [Cent1X,  Cent2X], 'y': [Cent1Y, Cent2Y]})\n",
    "print(assign_cluster(data, Cents))"
   ]
  },
  {
   "cell_type": "code",
   "execution_count": null,
   "metadata": {},
   "outputs": [],
   "source": []
  },
  {
   "cell_type": "code",
   "execution_count": null,
   "metadata": {},
   "outputs": [],
   "source": []
  }
 ],
 "metadata": {
  "kernelspec": {
   "display_name": "Python 3",
   "language": "python",
   "name": "python3"
  },
  "language_info": {
   "codemirror_mode": {
    "name": "ipython",
    "version": 3
   },
   "file_extension": ".py",
   "mimetype": "text/x-python",
   "name": "python",
   "nbconvert_exporter": "python",
   "pygments_lexer": "ipython3",
   "version": "3.8.3"
  }
 },
 "nbformat": 4,
 "nbformat_minor": 4
}
